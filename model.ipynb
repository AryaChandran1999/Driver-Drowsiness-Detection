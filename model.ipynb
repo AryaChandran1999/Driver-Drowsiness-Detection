{
 "cells": [
  {
   "cell_type": "code",
   "execution_count": 20,
   "metadata": {},
   "outputs": [],
   "source": [
    "import os\n",
    "from keras.preprocessing import image\n",
    "import matplotlib.pyplot as plt \n",
    "import numpy as np\n",
    "from keras.utils.np_utils import to_categorical\n",
    "import random,shutil\n",
    "from keras.models import Sequential\n",
    "from keras.layers import Dropout,Conv2D,Flatten,Dense, MaxPooling2D, BatchNormalization\n",
    "from keras.models import load_model\n"
   ]
  },
  {
   "cell_type": "code",
   "execution_count": 21,
   "metadata": {},
   "outputs": [],
   "source": [
    "def generator(dir, gen=image.ImageDataGenerator(rescale=1./255), shuffle=True,batch_size=1,target_size=(24,24),class_mode='categorical' ):\n",
    "    return gen.flow_from_directory(dir,batch_size=batch_size,shuffle=shuffle,color_mode='grayscale',class_mode=class_mode,target_size=target_size)"
   ]
  },
  {
   "cell_type": "code",
   "execution_count": 22,
   "metadata": {},
   "outputs": [
    {
     "name": "stdout",
     "output_type": "stream",
     "text": [
      "Found 2467 images belonging to 4 classes.\n",
      "Found 433 images belonging to 4 classes.\n",
      "77 13\n"
     ]
    }
   ],
   "source": [
    "BSize= 32\n",
    "TSize=(24,24)\n",
    "training_batch= generator('C:/Users/user/New folder/data/train',shuffle=True, batch_size=BSize,target_size=TSize)\n",
    "validation_batch= generator('C:/Users/user/New folder/data/valid',shuffle=True, batch_size=BSize,target_size=TSize)\n",
    "SPE= len(training_batch.classes)//BSize\n",
    "VS = len(validation_batch.classes)//BSize\n",
    "print(SPE,VS)"
   ]
  },
  {
   "cell_type": "markdown",
   "metadata": {},
   "source": [
    "img,labels= next(train_batch)<br>\n",
    "print(img.shape)"
   ]
  },
  {
   "cell_type": "code",
   "execution_count": 24,
   "metadata": {},
   "outputs": [],
   "source": [
    "model = Sequential([\n",
    "    Conv2D(32, kernel_size=(3, 3), activation='relu', input_shape=(24,24,1)),\n",
    "    MaxPooling2D(pool_size=(1,1)),\n",
    "    Conv2D(32,(3,3),activation='relu'),\n",
    "    MaxPooling2D(pool_size=(1,1)),\n",
    "\n",
    "    Conv2D(64, (3, 3), activation='relu'),\n",
    "    MaxPooling2D(pool_size=(1,1)),\n",
    "        \n",
    "    Dropout(0.25),\n",
    "    Flatten(),\n",
    "    Dense(128, activation='relu'),\n",
    "    Dropout(0.5),\n",
    "    Dense(4, activation='softmax')\n",
    "])"
   ]
  },
  {
   "cell_type": "markdown",
   "metadata": {},
   "source": [
    "4 convolution filters used each of size 3x3<br>\n",
    "hoose the best features via pooling"
   ]
  },
  {
   "cell_type": "code",
   "execution_count": 25,
   "metadata": {},
   "outputs": [],
   "source": [
    "model.compile(optimizer='adam',loss='categorical_crossentropy',metrics=['accuracy'],run_eagerly=True)"
   ]
  },
  {
   "cell_type": "code",
   "execution_count": 26,
   "metadata": {
    "scrolled": false
   },
   "outputs": [
    {
     "name": "stdout",
     "output_type": "stream",
     "text": [
      "Epoch 1/15\n",
      "77/77 [==============================] - 41s 518ms/step - loss: 0.7151 - accuracy: 0.6817 - val_loss: 0.4229 - val_accuracy: 0.7596\n",
      "Epoch 2/15\n",
      "77/77 [==============================] - 44s 574ms/step - loss: 0.4191 - accuracy: 0.7889 - val_loss: 0.3551 - val_accuracy: 0.8365\n",
      "Epoch 3/15\n",
      "77/77 [==============================] - 40s 513ms/step - loss: 0.3589 - accuracy: 0.8251 - val_loss: 0.3147 - val_accuracy: 0.8462\n",
      "Epoch 4/15\n",
      "77/77 [==============================] - 33s 427ms/step - loss: 0.3407 - accuracy: 0.8415 - val_loss: 0.3201 - val_accuracy: 0.8606\n",
      "Epoch 5/15\n",
      "77/77 [==============================] - 40s 511ms/step - loss: 0.2959 - accuracy: 0.8567 - val_loss: 0.3143 - val_accuracy: 0.8726\n",
      "Epoch 6/15\n",
      "77/77 [==============================] - 41s 533ms/step - loss: 0.2588 - accuracy: 0.8764 - val_loss: 0.2643 - val_accuracy: 0.8894\n",
      "Epoch 7/15\n",
      "77/77 [==============================] - 34s 444ms/step - loss: 0.2210 - accuracy: 0.9043 - val_loss: 0.2358 - val_accuracy: 0.9062\n",
      "Epoch 8/15\n",
      "77/77 [==============================] - 39s 500ms/step - loss: 0.1970 - accuracy: 0.9101 - val_loss: 0.2799 - val_accuracy: 0.8798\n",
      "Epoch 9/15\n",
      "77/77 [==============================] - 39s 499ms/step - loss: 0.1756 - accuracy: 0.9261 - val_loss: 0.2579 - val_accuracy: 0.8822\n",
      "Epoch 10/15\n",
      "77/77 [==============================] - 31s 396ms/step - loss: 0.1479 - accuracy: 0.9368 - val_loss: 0.1963 - val_accuracy: 0.9062\n",
      "Epoch 11/15\n",
      "77/77 [==============================] - 34s 445ms/step - loss: 0.1262 - accuracy: 0.9483 - val_loss: 0.1984 - val_accuracy: 0.9135\n",
      "Epoch 12/15\n",
      "77/77 [==============================] - 35s 447ms/step - loss: 0.1148 - accuracy: 0.9511 - val_loss: 0.2437 - val_accuracy: 0.9014\n",
      "Epoch 13/15\n",
      "77/77 [==============================] - 33s 422ms/step - loss: 0.1060 - accuracy: 0.9602 - val_loss: 0.1581 - val_accuracy: 0.9375\n",
      "Epoch 14/15\n",
      "77/77 [==============================] - 34s 440ms/step - loss: 0.0767 - accuracy: 0.9717 - val_loss: 0.1920 - val_accuracy: 0.9207\n",
      "Epoch 15/15\n",
      "77/77 [==============================] - 38s 488ms/step - loss: 0.0719 - accuracy: 0.9733 - val_loss: 0.1509 - val_accuracy: 0.9399\n"
     ]
    },
    {
     "data": {
      "text/plain": [
       "<keras.callbacks.History at 0x14cb936b4c0>"
      ]
     },
     "execution_count": 26,
     "metadata": {},
     "output_type": "execute_result"
    }
   ],
   "source": [
    "model.fit(training_batch, validation_data=validation_batch,epochs=15,steps_per_epoch=SPE ,validation_steps=VS)"
   ]
  },
  {
   "cell_type": "code",
   "execution_count": 28,
   "metadata": {},
   "outputs": [],
   "source": [
    "model.save('model/cnn_weights.h5', overwrite=True)"
   ]
  }
 ],
 "metadata": {
  "kernelspec": {
   "display_name": "Python 3",
   "language": "python",
   "name": "python3"
  },
  "language_info": {
   "codemirror_mode": {
    "name": "ipython",
    "version": 3
   },
   "file_extension": ".py",
   "mimetype": "text/x-python",
   "name": "python",
   "nbconvert_exporter": "python",
   "pygments_lexer": "ipython3",
   "version": "3.8.8"
  }
 },
 "nbformat": 4,
 "nbformat_minor": 2
}
